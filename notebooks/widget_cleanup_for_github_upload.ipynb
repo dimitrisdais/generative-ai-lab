{
  "cells": [
    {
      "cell_type": "markdown",
      "metadata": {
        "id": "CsJVGinSCsw_"
      },
      "source": [
        "# 🚨 The Problem: Progress Bars Break GitHub Notebook Rendering\n",
        "\n",
        "When you run long tasks in notebooks—like downloading large models or datasets—you often see progress bars that keep you informed. Popular libraries like Hugging Face's Transformers use **tqdm-based progress bars** for this.\n",
        "\n",
        "However, these progress bars create **interactive widget metadata inside the notebook's JSON**, which GitHub tries to render. If this metadata is incomplete or corrupted, GitHub throws errors such as:\n",
        "\n",
        "> Invalid Notebook  \n",
        "> There was an error rendering your Notebook: the 'state' key is missing from 'metadata.widgets'. Add 'state' to each, or remove 'metadata.widgets'.  \n",
        "\n",
        "This means GitHub cannot display your notebook preview properly as shown below.\n",
        "\n",
        "![Invalid Notebook Error on GitHub](https://raw.githubusercontent.com/dimitrisdais/generative-ai-lab/main/assets/images/invalid_notebook_error.png)\n"
      ]
    },
    {
      "cell_type": "markdown",
      "metadata": {
        "id": "4vlmS0TxDH7j"
      },
      "source": [
        "# ❓ Why This Happens\n",
        "\n",
        "The widget metadata (in the notebook JSON) contains information needed to render interactive elements. When you run progress bars or ipywidgets, this metadata is created. If you manually edit or upload a notebook with **incomplete or broken widget metadata**, GitHub refuses to render it.\n",
        "\n",
        "One common example is loading a Hugging Face summarization model in Google Colab:\n",
        "\n",
        "![Hugging Face Progress Bars causing error](https://raw.githubusercontent.com/dimitrisdais/generative-ai-lab/main/assets/images/progress_bars_error.png)"
      ]
    },
    {
      "cell_type": "markdown",
      "metadata": {
        "id": "GfW6iUrnDP3W"
      },
      "source": [
        "# 🛠️ Clean Widget Metadata Programmatically After Running\n",
        "\n",
        "You can keep your outputs but remove the problematic widget metadata using a cleanup script.\n",
        "\n",
        "The following script loads your notebook JSON, deletes all \"widgets\" entries from metadata (both cell-level and notebook-level), and saves a cleaned notebook."
      ]
    },
    {
      "cell_type": "code",
      "execution_count": null,
      "metadata": {
        "colab": {
          "base_uri": "https://localhost:8080/"
        },
        "id": "wqiGw9NQr2v0",
        "outputId": "05340ea0-4bec-4ea6-d662-66b9cf4f485d"
      },
      "outputs": [
        {
          "name": "stdout",
          "output_type": "stream",
          "text": [
            "Mounted at /content/drive\n"
          ]
        }
      ],
      "source": [
        "import json\n",
        "from google.colab import drive\n",
        "\n",
        "# Step 1: Mount your Google Drive\n",
        "drive.mount('/content/drive')"
      ]
    },
    {
      "cell_type": "code",
      "execution_count": null,
      "metadata": {
        "colab": {
          "base_uri": "https://localhost:8080/"
        },
        "id": "WsX23HaAr8mg",
        "outputId": "64f6a394-e381-4ec0-bb8c-2e91cf13bb16"
      },
      "outputs": [],
      "source": [
        "# Step 2: Define the full path to your notebook file in Drive\n",
        "notebook_path = '/content/drive/MyDrive/Colab Notebooks/0003_widget_cleanup_for_github_upload/dummy_notebook.ipynb'\n",
        "cleaned_path = '/content/drive/MyDrive/Colab Notebooks/0003_widget_cleanup_for_github_upload/dummy_notebook_cleaned.ipynb'\n",
        "\n",
        "# Step 3: Load notebook JSON\n",
        "with open(notebook_path, 'r', encoding='utf-8') as f:\n",
        "    notebook = json.load(f)\n",
        "\n",
        "# Step 3.1: Remove 'widgets' metadata from notebook-level metadata if present\n",
        "if 'widgets' in notebook.get('metadata', {}):\n",
        "    print(\"Removing top-level widgets metadata\")\n",
        "    del notebook['metadata']['widgets']\n",
        "\n",
        "# Step 4: Remove 'widgets' metadata in all cells if present\n",
        "for i, cell in enumerate(notebook.get('cells', [])):\n",
        "    metadata = cell.get('metadata', {})\n",
        "    if 'widgets' in metadata:\n",
        "        print(f\"Removing widgets metadata in cell {i}\")\n",
        "        del metadata['widgets']\n",
        "\n",
        "# Step 5: Save cleaned notebook to a new file in Drive or local\n",
        "with open(cleaned_path, 'w', encoding='utf-8') as f:\n",
        "    json.dump(notebook, f, indent=2)\n",
        "\n",
        "print(f\"Cleaned notebook saved at: {cleaned_path}\")\n"
      ]
    },
    {
      "cell_type": "markdown",
      "metadata": {
        "id": "BxCTupGMDlR0"
      },
      "source": [
        "This removes progress bars but keeps textual output and warnings.\n",
        "\n",
        "![Notebook after widget cleanup (bars removed) - Google Colab view](https://raw.githubusercontent.com/dimitrisdais/generative-ai-lab/main/assets/images/cleaned_notebook.png)\n",
        "\n",
        "![Notebook after widget cleanup (bars removed) - GitHub rendered view](https://raw.githubusercontent.com/dimitrisdais/generative-ai-lab/main/assets/images/cleaned_notebook_github.png)\n"
      ]
    }
  ],
  "metadata": {
    "colab": {
      "provenance": []
    },
    "kernelspec": {
      "display_name": "Python 3",
      "name": "python3"
    },
    "language_info": {
      "name": "python"
    }
  },
  "nbformat": 4,
  "nbformat_minor": 0
}
